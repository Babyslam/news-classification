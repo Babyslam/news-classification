{
 "cells": [
  {
   "cell_type": "code",
   "execution_count": 1,
   "metadata": {},
   "outputs": [
    {
     "name": "stdout",
     "output_type": "stream",
     "text": [
      "Untuk menjaga pertumbuhan ekonomi nasional, Otoritas Jasa Keuangan (OJK) menyiapkan kebijakan stimulus untuk countercyclical dalam mengantisipasi down side risk dari penyebaran virus Corona.    Ketua Dewan Komisioner OJK Wimboh Santoso menjelaskan OJK akan memberikan relaksasi untuk debitur yang terdampak penyebaran virus corona, ini sejalan dengan sektor yang diberikan insentif oleh pemerintah.    Relaksasi pengaturan penilaian kualitas asset kredit dengan plafon sampai dengan Rp 10 Miliar, hanya didasarkan pada satu pilar yaitu ketepatan pembayaran pokok dan/atau bunga, terhadap kredit yang telah disalurkan kepada debitur di sektor yang terdampak.  Kemudian relaksasi pengaturan ini akan diberlakukan sampai dengan 1 (satu) tahun setelah ditetapkan, namun dapat diperpanjang bila diperlukan.    \"Kebijakan stimulus OJK ini diharapkan bisa memitigasi dampak pelemahan ekonomi global terhadap pertumbuhan dan stabilitas ekonomi nasional,\" kata Wimboh dalam siaran pers, Rabu (26/2/2020).    Dia menjelaskan ke depan ekonomi global masih akan menemui tantangan yang cukup besar. Misalnya peningkatan tensi geopolitik di Timur Tengah dan belum selesainya isu perang dagang antara AS dan China, dunia juga dihadapkan pada kasus virus Corona yang dampaknya tidak dapat dikatakan kecil bagi perekonomian global.    Salah satu dampak langsung dari perkembangan tersebut adalah ke perekonomian China yang kontribusinya terhadap PDB dunia mencapai 16%. Diperkirakan pertumbuhan ekonomi China akan mencapai level terendah selama 29 tahun terakhir yang akan berdampak pula pada pertumbuhan perekonomian negara- negara mitra dagangnya.    Dampak dari masih tingginya ketidakpastian perekonomian global juga tercermin di perekonomian domestik, terutama pada investasi dan kinerja eksternal yang cenderung melambat.    Dari hasil rapat dewan komisioner bulanan OJK disebutkan hingga 21 Februari 2020, pasar saham melemah sebesar 0,97% mtd atau 6,62% ytd menjadi 5.882,3. Pelemahan ini lebih disebabkan pada kekhawatiran investor terhadap virus corona yang akan berdampak pada kinerja emiten di Indonesia.    Lalu untuk pasar SBN masih menguat dengan yield yang turun sebesar 17,3 bps mtd di tengah net sell oleh investor nonresiden sebesar Rp6,8 triliun. Perbankan tercatat menjadi penopang pasar SBN domestik dengan melakukan pembelian sebesar Rp52,4 triliun.  Kemudian untuk kredit perbankan tercatat 6,1% yoy, ditopang oleh kredit investasi yang tetap tumbuh double digit di level 10,48% yoy. Piutang pembiayaan Perusahaan Pembiayaan meningkat 2,4% yoy. Rasio NPL gross sebesar 2,77% (NPL net: 1,04%) dan Rasio NPF sebesar 2,56%.    Dana Pihak Ketiga (DPK) perbankan tumbuh sebesar 6,8% yoy, lebih tinggi dari capaian tahun lalu. Selain itu, sepanjang Januari 2020, industri asuransi berhasil menghimpun premi sebesar Rp26,2 triliun dan tumbuh sebesar 9,7% yoy.    Kemudian penghimpunan dana melalui pasar modal telah mencapai Rp14 triliun. Jumlah emiten baru pada periode tersebut sebanyak 9 perusahaan dengan pipeline penawaran sebanyak 53 emiten dengan total indikasi penawaran sebesar Rp21,2 triliun.    Risiko nilai tukar perbankan berada pada level yang rendah, dengan rasio Posisi Devisa Neto (PDN) sebesar 2,21%, jauh di bawah ambang batas ketentuan sebesar 20%. Liquidity coverage ratio dan rasio alat likuid/non-core deposit masing- masing sebesar 208,73% dan 101,49%, jauh di atas threshold masing-masing sebesar 100% dan 50%.    Permodalan lembaga jasa keuangan terjaga stabil pada level yang tinggi. Capital Adequacy Ratio perbankan sebesar 22,83%. Sejalan dengan itu, Risk-Based Capital industri asuransi jiwa dan asuransi umum masing-masing sebesar 789% dan 345%, jauh di atas ambang batas ketentuan sebesar 120%.  ADVERTISEMENT SCROLL TO RESUME CONTENT  Update Kasus Covid-19 RI 8 Januari: 345 kasus Baru\n"
     ]
    }
   ],
   "source": [
    "import requests\n",
    "from bs4 import BeautifulSoup\n",
    "import newspaper\n",
    "\n",
    "url = 'https://finance.detik.com/moneter/d-4916133/ojk-siapkan-stimulus-ekonomi-antisipasi-dampak-corona'\n",
    "response = requests.get(url)\n",
    "soup = BeautifulSoup(response.content, 'html.parser')\n",
    "\n",
    "article = newspaper.Article(url)\n",
    "article.download(input_html=str(soup))\n",
    "article.parse()\n",
    "\n",
    "text = article.text\n",
    "# Mengganti spasi paragraf menjadi spasi biasa yang jauh\n",
    "text = text.replace('\\n', ' ').strip()\n",
    "\n",
    "print(text)\n"
   ]
  },
  {
   "cell_type": "code",
   "execution_count": 3,
   "metadata": {},
   "outputs": [
    {
     "ename": "UnicodeDecodeError",
     "evalue": "'charmap' codec can't decode byte 0x81 in position 4912: character maps to <undefined>",
     "output_type": "error",
     "traceback": [
      "\u001b[1;31m---------------------------------------------------------------------------\u001b[0m",
      "\u001b[1;31mUnicodeDecodeError\u001b[0m                        Traceback (most recent call last)",
      "Cell \u001b[1;32mIn[3], line 16\u001b[0m\n\u001b[0;32m     13\u001b[0m writer\u001b[39m.\u001b[39mwriterow(header)\n\u001b[0;32m     15\u001b[0m \u001b[39m# perulangan untuk setiap baris pada file csv input\u001b[39;00m\n\u001b[1;32m---> 16\u001b[0m \u001b[39mfor\u001b[39;00m row \u001b[39min\u001b[39;00m reader:\n\u001b[0;32m     17\u001b[0m     \u001b[39m# replace nama kolom dari file csv ori ke file csv output\u001b[39;00m\n\u001b[0;32m     18\u001b[0m     url \u001b[39m=\u001b[39m row[\u001b[39m'\u001b[39m\u001b[39murl\u001b[39m\u001b[39m'\u001b[39m] \n\u001b[0;32m     19\u001b[0m     title \u001b[39m=\u001b[39m row[\u001b[39m'\u001b[39m\u001b[39mtitle\u001b[39m\u001b[39m'\u001b[39m]\n",
      "File \u001b[1;32mc:\\Users\\Reza\\AppData\\Local\\Programs\\Python\\Python310\\lib\\csv.py:111\u001b[0m, in \u001b[0;36mDictReader.__next__\u001b[1;34m(self)\u001b[0m\n\u001b[0;32m    108\u001b[0m \u001b[39mif\u001b[39;00m \u001b[39mself\u001b[39m\u001b[39m.\u001b[39mline_num \u001b[39m==\u001b[39m \u001b[39m0\u001b[39m:\n\u001b[0;32m    109\u001b[0m     \u001b[39m# Used only for its side effect.\u001b[39;00m\n\u001b[0;32m    110\u001b[0m     \u001b[39mself\u001b[39m\u001b[39m.\u001b[39mfieldnames\n\u001b[1;32m--> 111\u001b[0m row \u001b[39m=\u001b[39m \u001b[39mnext\u001b[39;49m(\u001b[39mself\u001b[39;49m\u001b[39m.\u001b[39;49mreader)\n\u001b[0;32m    112\u001b[0m \u001b[39mself\u001b[39m\u001b[39m.\u001b[39mline_num \u001b[39m=\u001b[39m \u001b[39mself\u001b[39m\u001b[39m.\u001b[39mreader\u001b[39m.\u001b[39mline_num\n\u001b[0;32m    114\u001b[0m \u001b[39m# unlike the basic reader, we prefer not to return blanks,\u001b[39;00m\n\u001b[0;32m    115\u001b[0m \u001b[39m# because we will typically wind up with a dict full of None\u001b[39;00m\n\u001b[0;32m    116\u001b[0m \u001b[39m# values\u001b[39;00m\n",
      "File \u001b[1;32mc:\\Users\\Reza\\AppData\\Local\\Programs\\Python\\Python310\\lib\\encodings\\cp1252.py:23\u001b[0m, in \u001b[0;36mIncrementalDecoder.decode\u001b[1;34m(self, input, final)\u001b[0m\n\u001b[0;32m     22\u001b[0m \u001b[39mdef\u001b[39;00m \u001b[39mdecode\u001b[39m(\u001b[39mself\u001b[39m, \u001b[39minput\u001b[39m, final\u001b[39m=\u001b[39m\u001b[39mFalse\u001b[39;00m):\n\u001b[1;32m---> 23\u001b[0m     \u001b[39mreturn\u001b[39;00m codecs\u001b[39m.\u001b[39;49mcharmap_decode(\u001b[39minput\u001b[39;49m,\u001b[39mself\u001b[39;49m\u001b[39m.\u001b[39;49merrors,decoding_table)[\u001b[39m0\u001b[39m]\n",
      "\u001b[1;31mUnicodeDecodeError\u001b[0m: 'charmap' codec can't decode byte 0x81 in position 4912: character maps to <undefined>"
     ]
    }
   ],
   "source": [
    "import csv\n",
    "import requests\n",
    "from bs4 import BeautifulSoup\n",
    "import newspaper\n",
    "\n",
    "# membuka file csv asli untuk input file dan membuat file csv untuk output  \n",
    "with open('D:/kuliah/Skripsi/dataset/training.csv', 'r') as infile, open('D:/kuliah/Skripsi/dataset/outputt.csv', 'w', newline='', encoding=\"utf-8\") as outfile:\n",
    "    reader = csv.DictReader(infile)\n",
    "    writer = csv.writer(outfile)\n",
    "    \n",
    "    # judul kolom pada file csv output\n",
    "    header = ['URL', 'Article Text', 'Title', 'Category']\n",
    "    writer.writerow(header)\n",
    "    \n",
    "    # perulangan untuk setiap baris pada file csv input\n",
    "    for row in reader:\n",
    "        # replace nama kolom dari file csv ori ke file csv output\n",
    "        url = row['url'] \n",
    "        title = row['title']\n",
    "        category = row['category']\n",
    "\n",
    "        # Kirim permintaan GET ke URL dan ambil konten pada HTML\n",
    "        response = requests.get(url)\n",
    "        html_content = response.content\n",
    "        \n",
    "        # BeautifulSoup untuk mengurai konten HTML dan mengekstrak teks artikel\n",
    "        soup = BeautifulSoup(html_content, 'html.parser')\n",
    "        article = newspaper.Article(url)\n",
    "        article.download(input_html=str(soup))\n",
    "        article.parse()\n",
    "\n",
    "        text = article.text\n",
    "        # Mengganti spasi paragraf menjadi spasi biasa yang jauh\n",
    "        text = text.replace('\\n', ' ').strip()\n",
    "\n",
    "        # Outuput file berbentuk csv\n",
    "        writer.writerow([url, text, title, category])\n"
   ]
  }
 ],
 "metadata": {
  "kernelspec": {
   "display_name": "Python 3",
   "language": "python",
   "name": "python3"
  },
  "language_info": {
   "codemirror_mode": {
    "name": "ipython",
    "version": 3
   },
   "file_extension": ".py",
   "mimetype": "text/x-python",
   "name": "python",
   "nbconvert_exporter": "python",
   "pygments_lexer": "ipython3",
   "version": "3.10.5"
  },
  "orig_nbformat": 4
 },
 "nbformat": 4,
 "nbformat_minor": 2
}
