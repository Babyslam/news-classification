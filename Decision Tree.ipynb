{
 "cells": [
  {
   "cell_type": "code",
   "execution_count": 10,
   "metadata": {},
   "outputs": [
    {
     "name": "stdout",
     "output_type": "stream",
     "text": [
      "['news' 'finance' 'news' ... 'news' 'otomotif' 'news']\n",
      "Accuracy: 0.7821565407772304\n",
      "              precision    recall  f1-score   support\n",
      "\n",
      "     finance       0.72      0.73      0.72      2249\n",
      "        food       0.86      0.84      0.85       705\n",
      "      health       0.71      0.72      0.71       805\n",
      "        news       0.85      0.87      0.86      5139\n",
      "    otomotif       0.68      0.62      0.65       714\n",
      "       sport       0.75      0.69      0.72       370\n",
      "      travel       0.66      0.62      0.64       980\n",
      "\n",
      "    accuracy                           0.78     10962\n",
      "   macro avg       0.75      0.73      0.74     10962\n",
      "weighted avg       0.78      0.78      0.78     10962\n",
      "\n",
      "[[1634   14   63  367   62   24   85]\n",
      " [  30  592   27   21    4    1   30]\n",
      " [  76   21  578   91    9    4   26]\n",
      " [ 358   24   72 4464   80   19  122]\n",
      " [  72    9   26  117  442   18   30]\n",
      " [  22    5    9   37   19  255   23]\n",
      " [  89   26   42  163   33   18  609]]\n"
     ]
    }
   ],
   "source": [
    "import pandas as pd\n",
    "from sklearn.tree import DecisionTreeClassifier\n",
    "from sklearn.feature_extraction.text import CountVectorizer\n",
    "from sklearn.model_selection import train_test_split\n",
    "from sklearn.metrics import accuracy_score\n",
    "from sklearn.metrics import classification_report\n",
    "from sklearn.metrics import confusion_matrix\n",
    "import pickle\n",
    "\n",
    "# Load data from CSV file\n",
    "data = pd.read_csv('D:/kuliah/Skripsi/ipynb/Data/textpreprocessing3.csv',  encoding=\"unicode_escape\")\n",
    "\n",
    "# Split data into features and target\n",
    "X = data['text_stemmed']\n",
    "y = data['Category']\n",
    "\n",
    "# Convert text data to numerical features (Term Frequency)\n",
    "vectorizer = CountVectorizer()\n",
    "X = vectorizer.fit_transform(X)\n",
    "\n",
    "filename = 'word_vectorizer.sav'\n",
    "pickle.dump(vectorizer, open(filename, 'wb'))\n",
    "\n",
    "# Split data into training and testing sets\n",
    "X_train, X_test, y_train, y_test = train_test_split(X, y, test_size=0.2, random_state=0)\n",
    "\n",
    "# Train decision tree classifier\n",
    "clf = DecisionTreeClassifier()\n",
    "clf.fit(X_train, y_train)\n",
    "\n",
    "filename = 'finalized_models_withstemmed.sav'\n",
    "pickle.dump(clf, open(filename, 'wb'))\n",
    "\n",
    "# Make predictions on test data\n",
    "y_pred = clf.predict(X_test)\n",
    "print(y_pred)\n",
    "\n",
    "# Calculate accuracy of the model\n",
    "accuracy = accuracy_score(y_test, y_pred)\n",
    "print('Accuracy:', accuracy)\n",
    "\n",
    "report = classification_report(y_test, y_pred)\n",
    "print(report)\n",
    "\n",
    "print(confusion_matrix(y_test, y_pred))"
   ]
  },
  {
   "cell_type": "code",
   "execution_count": null,
   "metadata": {},
   "outputs": [],
   "source": [
    "import numpy as np\n",
    "a = confusion_matrix(y_test, y_pred)\n",
    "np.savetxt(\"confusion_matrix.csv\",a,delimiter=\",\")\n"
   ]
  },
  {
   "cell_type": "code",
   "execution_count": 1,
   "metadata": {},
   "outputs": [
    {
     "data": {
      "text/plain": [
       "(54809, 8)"
      ]
     },
     "execution_count": 1,
     "metadata": {},
     "output_type": "execute_result"
    }
   ],
   "source": [
    "# stemmed text_stemmed\n",
    "# ['news' 'oto' 'news' ... 'news' 'oto' 'news']\n",
    "# Accuracy: 0.7817916438606094\n",
    "\n",
    "# Removal of Rare words text_wo_stopfreqrare\n",
    "# ['news' 'news' 'health' ... 'finance' 'oto' 'news']\n",
    "# Accuracy: 0.7768655354862252\n",
    "\n",
    "# Removal of Frequent words text_wo_stopfreq\n",
    "# ['sport' 'news' 'health' ... 'finance' 'oto' 'news']\n",
    "# Accuracy: 0.7747673782156541\n",
    "\n",
    "# Removal of Punctuations text_wo_punct\n",
    "# ['news' 'news' 'health' ... 'health' 'oto' 'news']\n",
    "# Accuracy: 0.7687465790914066"
   ]
  },
  {
   "cell_type": "code",
   "execution_count": 12,
   "metadata": {},
   "outputs": [
    {
     "name": "stdout",
     "output_type": "stream",
     "text": [
      "['otomotif']\n"
     ]
    }
   ],
   "source": [
    "import pickle\n",
    "\n",
    "with open('finalized_models_withstemmed.sav', 'rb') as file:\n",
    "    model = pickle.load(file)\n",
    "\n",
    "with open('word_vectorizer.sav', 'rb') as file:\n",
    "    vektor = pickle.load(file)\n",
    "\n",
    "# Retrieve the input data from the request\n",
    "data = [\"Sejurus kemudian, mobil langsung menabrak moveable concrete barrier (MCB) beton di sebelah kiri jalan. Hal ini mengakibatkan ban mobil Mercy listrik ini tersangkut.Tak ada korban jiwa dalam kecelakaan mobil listrik ini. Sementara mobil Mercy listrik mengalami kerusakan pada bagian bumper.\"]\n",
    "X = vektor.transform(data)\n",
    "\n",
    "# Use the loaded model to make predictions\n",
    "predictions = model.predict(X)\n",
    "print(predictions)\n"
   ]
  },
  {
   "cell_type": "code",
   "execution_count": 11,
   "metadata": {},
   "outputs": [
    {
     "name": "stdout",
     "output_type": "stream",
     "text": [
      "['finance']\n"
     ]
    }
   ],
   "source": [
    "with open('finalized_models_withstemmedtitle.sav', 'rb') as file:\n",
    "    model = pickle.load(file)\n",
    "\n",
    "with open('word_vectorizers.sav', 'rb') as file:\n",
    "    vectorizer = pickle.load(file)\n",
    "\n",
    "data = [\"Kementerian Keuangan (Kemenkeu) mencatat posisi utang pemerintah hingga 31 Mei 2023 mencapai Rp 7.787,51 triliun atau 37,85% terhadap produk domestik bruto (PDB). Jumlah itu turun Rp 62,38 triliun dari posisi utang bulan sebelumnya yang sebesar Rp 7.849,89 triliun.Baik secara nominal maupun rasio, posisi utang hingga Mei 2023 mengalami penurunan dibandingkan bulan sebelumnya. Hal itu dikarenakan pemerintah membayar utang lebih besar dibandingkan menerbitkan utang baru\"]\n",
    "X = vektor.transform(data)\n",
    "\n",
    "# Use the loaded model to make predictions\n",
    "predictions = model.predict(X)\n",
    "print(predictions)"
   ]
  }
 ],
 "metadata": {
  "kernelspec": {
   "display_name": "Python 3",
   "language": "python",
   "name": "python3"
  },
  "language_info": {
   "codemirror_mode": {
    "name": "ipython",
    "version": 3
   },
   "file_extension": ".py",
   "mimetype": "text/x-python",
   "name": "python",
   "nbconvert_exporter": "python",
   "pygments_lexer": "ipython3",
   "version": "3.10.5"
  },
  "orig_nbformat": 4
 },
 "nbformat": 4,
 "nbformat_minor": 2
}
